{
  "nbformat": 4,
  "nbformat_minor": 0,
  "metadata": {
    "colab": {
      "provenance": [],
      "gpuType": "T4"
    },
    "kernelspec": {
      "name": "python3",
      "display_name": "Python 3"
    },
    "language_info": {
      "name": "python"
    },
    "accelerator": "GPU"
  },
  "cells": [
    {
      "cell_type": "markdown",
      "source": [
        "# FINAL ROE COLAB\n",
        "## Points to remember\n",
        "Do's\n",
        "* Add answer for each question here!\n",
        "* Paste your code/solution here\n",
        "* Create new cells if necessary\n",
        "* Remember to put your solution in a cell inside the subsection for each question. If a solution already exists, do not modify it. Just create a cell and paste your solution there.\n",
        "* It's preferable not to break up your solution into multiple cells.\n",
        "* Paste the code if it gives you right answer. The source of the code is irrelevant. Your contributions will be tracked (Google Colab maintains revision history).\n",
        "\n",
        "Don't's\n",
        "* NO RUNNING THE CODE HERE. IT WILL MAKE THE ENVIRONMENT SLOWER FOR EVERYONE\n",
        "* NO CHANGING OR DELETING CODE HERE. COPY THE CODE AND PASTE IT IN YOUR ENVIRONMENT.\n",
        "* NO INSTALLATION OF PACKAGES"
      ],
      "metadata": {
        "id": "RTHp3GGWwwjR"
      }
    },
    {
      "cell_type": "code",
      "source": [],
      "metadata": {
        "id": "MW8Ikwxnfixa"
      },
      "execution_count": null,
      "outputs": []
    },
    {
      "cell_type": "code",
      "source": [],
      "metadata": {
        "id": "jwoQX57gOVpi"
      },
      "execution_count": null,
      "outputs": []
    },
    {
      "cell_type": "markdown",
      "source": [
        "#### Code Snippets\n",
        "- https://github.com/ritwiktrivedi/ROE-Master-Snippets-File  (if this helps you, give the guy a follow on GitHub)\n",
        "- https://colab.research.google.com/drive/1LLfMvLsRfNltvFli3jYNIjGMUj4pZShy\n"
      ],
      "metadata": {
        "id": "Tb8x4pRIYcIX"
      }
    },
    {
      "cell_type": "markdown",
      "source": [
        "## QUESTION 1"
      ],
      "metadata": {
        "id": "zRLbuKdNW8Wd"
      }
    },
    {
      "cell_type": "code",
      "execution_count": null,
      "metadata": {
        "id": "EQ1FKW9wwu_S"
      },
      "outputs": [],
      "source": []
    },
    {
      "cell_type": "markdown",
      "source": [
        "## QUESTION 2"
      ],
      "metadata": {
        "id": "LfjGyi6UXBuR"
      }
    },
    {
      "cell_type": "code",
      "source": [
        "#Q2"
      ],
      "metadata": {
        "id": "COQP8qQVw9e5"
      },
      "execution_count": null,
      "outputs": []
    },
    {
      "cell_type": "markdown",
      "source": [
        "## QUESTION 3"
      ],
      "metadata": {
        "id": "wDDSbJhFXEOo"
      }
    },
    {
      "cell_type": "code",
      "source": [
        "#Q3"
      ],
      "metadata": {
        "id": "x2Eqo9lFw-XI"
      },
      "execution_count": null,
      "outputs": []
    },
    {
      "cell_type": "markdown",
      "source": [
        "## QUESTION 4"
      ],
      "metadata": {
        "id": "TJRxeKujXHEO"
      }
    },
    {
      "cell_type": "code",
      "source": [
        "#Q4"
      ],
      "metadata": {
        "id": "VtZT-5Z1w_bx"
      },
      "execution_count": null,
      "outputs": []
    },
    {
      "cell_type": "markdown",
      "source": [
        "## QUESTION 5"
      ],
      "metadata": {
        "id": "qTBYnrjQXJvZ"
      }
    },
    {
      "cell_type": "code",
      "source": [
        "#Q5 ...."
      ],
      "metadata": {
        "id": "FEknAbRww_ui"
      },
      "execution_count": null,
      "outputs": []
    },
    {
      "cell_type": "markdown",
      "source": [
        "## QUESTION 6"
      ],
      "metadata": {
        "id": "SiqAah1PYGFj"
      }
    },
    {
      "cell_type": "code",
      "source": [],
      "metadata": {
        "id": "HH87drWPYI4g"
      },
      "execution_count": null,
      "outputs": []
    },
    {
      "cell_type": "markdown",
      "source": [
        "\n",
        "\n",
        "## QUESTION 7"
      ],
      "metadata": {
        "id": "R6DY-6bBYKpZ"
      }
    },
    {
      "cell_type": "code",
      "source": [],
      "metadata": {
        "id": "gHPuZLNsYNdi"
      },
      "execution_count": null,
      "outputs": []
    },
    {
      "cell_type": "markdown",
      "source": [
        "## QUESTION 8"
      ],
      "metadata": {
        "id": "J7NiiLvUi_bT"
      }
    },
    {
      "cell_type": "code",
      "source": [
        "# yahoo!"
      ],
      "metadata": {
        "id": "Hzz0vYI7jGKy"
      },
      "execution_count": null,
      "outputs": []
    }
  ]
}